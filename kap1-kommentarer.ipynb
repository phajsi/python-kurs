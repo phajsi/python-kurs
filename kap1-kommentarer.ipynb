{
 "cells": [
  {
   "cell_type": "markdown",
   "id": "43d39688-7c95-4ea1-bc3e-470f9e86aec1",
   "metadata": {},
   "source": [
    "# Kapittel 1"
   ]
  },
  {
   "cell_type": "markdown",
   "id": "bea4eda2",
   "metadata": {},
   "source": [
    "## Table of Contents\n",
    "\n",
    "- [Hello World](##Hello_World)\n",
    "- [Kommentarer](kap1-kommentarer.ipynb#kommentarer)\n",
    "- [Datastrukturer og variabler](##Datastrukturer_og_variabler) \n",
    "  - [Tall](###Tall)\n",
    "    - [Vanlige og spesielle matematiske funksjoner](##Vanlige_og_spesielle_matematiske_funksjoner)\n",
    "    - [Regnerekkefølge](###Regnerekkefølge)\n",
    "    - [Oversette mellom heltall og flyttall](####Oversette_mellom_heltall_og_flyttall)\n",
    "    - [Enda flere matematiske funksjoner](####Enda_flere_matematiske_funksjoner)\n",
    "  - [Variabler](###Variabler)\n",
    "  - [Strenger](###Strenger)\n",
    "  - [Boolske verdier](###Boolse_verdier)\n",
    "- [Samlinger](##Samlinger)\n",
    "- [Ta inn data fra brukeren](##Ta_inn_data_fra_brukeren)\n",
    "- [Hvis, omatte og ellers](##Hvis_omatte_og_ellers)\n",
    "- [Løkker](##Løkker)\n",
    "- [Funksjoner](##Funksjoner)"
   ]
  },
  {
   "cell_type": "markdown",
   "id": "d1381f81-cf9a-4218-9b64-b2a910d107f9",
   "metadata": {},
   "source": [
    "## Hello_World"
   ]
  },
  {
   "cell_type": "code",
   "execution_count": 1,
   "id": "eafb2227-5752-48b4-8bb8-8389857fca54",
   "metadata": {},
   "outputs": [
    {
     "name": "stdout",
     "output_type": "stream",
     "text": [
      "Hallo verden\n"
     ]
    }
   ],
   "source": [
    "print('Hallo verden')"
   ]
  },
  {
   "cell_type": "code",
   "execution_count": 3,
   "id": "9ac2695c-e970-4887-a47e-de466c0383a5",
   "metadata": {},
   "outputs": [
    {
     "name": "stdout",
     "output_type": "stream",
     "text": [
      "Hallo verden \n",
      "Python er gøy!\n"
     ]
    }
   ],
   "source": [
    "print('Hallo verden \\nPython er gøy!')"
   ]
  },
  {
   "cell_type": "markdown",
   "id": "b15df3b1",
   "metadata": {},
   "source": [
    "## Kommentarer"
   ]
  },
  {
   "cell_type": "code",
   "execution_count": 5,
   "id": "13e714a2-0dd1-41f4-b94c-1856591f4ac6",
   "metadata": {},
   "outputs": [
    {
     "name": "stdout",
     "output_type": "stream",
     "text": [
      "😊\n"
     ]
    }
   ],
   "source": [
    "# Dette er en kommentaer\n",
    "print('😊')"
   ]
  },
  {
   "cell_type": "code",
   "execution_count": 6,
   "id": "6316146b-0485-48cd-9de5-01eeb55a4579",
   "metadata": {},
   "outputs": [],
   "source": [
    "#kommenterer ut kode! \n",
    "#print('😊')"
   ]
  },
  {
   "cell_type": "markdown",
   "id": "1b84fcca-14c5-41ce-a86f-a6fd40bbb10f",
   "metadata": {},
   "source": [
    "## Datastrukturer_og_variabler"
   ]
  },
  {
   "cell_type": "markdown",
   "id": "9e13b2f9",
   "metadata": {},
   "source": [
    "### Tall"
   ]
  },
  {
   "cell_type": "markdown",
   "id": "4edc2437",
   "metadata": {},
   "source": [
    "#### ✍️ Oppgave: Kan du skrive litt kode i datastrukturer.py som bruker de fire innebygde matematiske funksjonene over?"
   ]
  },
  {
   "cell_type": "code",
   "execution_count": 11,
   "id": "12424fc7-3846-46c6-878b-9033b7fb1a5e",
   "metadata": {},
   "outputs": [
    {
     "name": "stdout",
     "output_type": "stream",
     "text": [
      "Eksempler på innebygde mattefunksjoner\n",
      "Pluss: 4\n",
      "Minus: 0\n",
      "Gange: 4\n",
      "Dele: 1.0\n"
     ]
    }
   ],
   "source": [
    "print(\"Eksempler på innebygde mattefunksjoner\")\n",
    "print('Pluss:', 2+2)\n",
    "print('Minus:', 2-2)\n",
    "print('Gange:', 2*2)\n",
    "print('Dele:', 2/2)"
   ]
  },
  {
   "cell_type": "markdown",
   "id": "3c6eeb04",
   "metadata": {},
   "source": [
    "#### Vanlige_og_spesielle_matematiske_funksjoner"
   ]
  },
  {
   "cell_type": "code",
   "execution_count": 4,
   "id": "4b35170a-be6f-4484-848c-b692b5399f5e",
   "metadata": {},
   "outputs": [
    {
     "name": "stdout",
     "output_type": "stream",
     "text": [
      "2 opphøyd i 3 =  8\n",
      "2 opphøyd i 3 =  8\n",
      "roten av 9 er =  3.0\n"
     ]
    }
   ],
   "source": [
    "# Eksempler\n",
    "\n",
    "# variasjons of \"raised to the power of\"\n",
    "print('2 opphøyd i 3 = ',pow(2,3)) \n",
    "print('2 opphøyd i 3 = ',2**3)\n",
    "\n",
    "import math\n",
    "\n",
    "print('roten av 9 er = ',math.sqrt(9))"
   ]
  },
  {
   "cell_type": "markdown",
   "id": "aea1bfab",
   "metadata": {},
   "source": [
    "#### Regnerekkefølge\n",
    "Tips: Noen ganger kan det være lurt å legge til parenteser, selv om uttrykket evaluerer i den rekkefølgen man ønsker i utgangspunktet."
   ]
  },
  {
   "cell_type": "markdown",
   "id": "2371564c",
   "metadata": {},
   "source": [
    "#### Oversette_mellom_heltall_og_flyttall"
   ]
  },
  {
   "cell_type": "code",
   "execution_count": 9,
   "id": "a1f74114",
   "metadata": {},
   "outputs": [
    {
     "name": "stdout",
     "output_type": "stream",
     "text": [
      "2\n",
      "3\n",
      "3.14\n",
      "2.0\n",
      "6\n"
     ]
    }
   ],
   "source": [
    "print(int(2.5)) # kutter ut alle desimalene\n",
    "\n",
    "print(round(2.6)) #runder av til nærmeste heltall\n",
    "print(round(3.141569,2)) # med ekstra desimal, tar den være på x antall desimaler\n",
    "\n",
    "print(float(2))\n",
    "\n",
    "print(13//2) # gir heltallsdivisjon, altså fjerner desimalene so skulle vært der"
   ]
  },
  {
   "cell_type": "markdown",
   "id": "32bf6ecb",
   "metadata": {},
   "source": [
    "#### Enda flere matematiske funksjoner"
   ]
  },
  {
   "cell_type": "markdown",
   "id": "aa5c3181",
   "metadata": {},
   "source": [
    "**Modulus**\n",
    "\n",
    "Er hvor mye som er igjen av et tall, hvis vi forsøker å dele det med et annet.\n",
    "\n",
    "% i python er modulus-operatoren.\n",
    "\n",
    "Modulus er nyttig for å f.eks. finne ut om et tall er et partall. Vi vet at partall kan deles på 2, så derfor må et partall sin % 2 være lik 0."
   ]
  },
  {
   "cell_type": "code",
   "execution_count": 10,
   "id": "128f7a3c",
   "metadata": {},
   "outputs": [
    {
     "name": "stdout",
     "output_type": "stream",
     "text": [
      "1\n"
     ]
    }
   ],
   "source": [
    "print(5%2)"
   ]
  },
  {
   "cell_type": "markdown",
   "id": "b34fd408",
   "metadata": {},
   "source": [
    "**Absolluttverdi**\n",
    "\n",
    "abs()"
   ]
  },
  {
   "cell_type": "code",
   "execution_count": 11,
   "id": "9ae3e431",
   "metadata": {},
   "outputs": [
    {
     "name": "stdout",
     "output_type": "stream",
     "text": [
      "5\n"
     ]
    }
   ],
   "source": [
    "print(abs(-5))"
   ]
  },
  {
   "cell_type": "markdown",
   "id": "b31ddecd",
   "metadata": {},
   "source": [
    "**🧠 Visste du at? Flyttall er ikke helt presise**\n",
    "\n",
    "Flyttall blir lagret på en måte som gjør at de ikke blir helt presise. Dette er en generell egenskap ved flyttall."
   ]
  },
  {
   "cell_type": "code",
   "execution_count": 13,
   "id": "216bc6e6",
   "metadata": {},
   "outputs": [
    {
     "name": "stdout",
     "output_type": "stream",
     "text": [
      "0.30000000000000004\n"
     ]
    }
   ],
   "source": [
    "#eks\n",
    "print(0.1+0.1+0.1)"
   ]
  },
  {
   "cell_type": "markdown",
   "id": "ce53f353",
   "metadata": {},
   "source": [
    "[Hvorfor](https://docs.python.org/3/tutorial/floatingpoint.html)"
   ]
  },
  {
   "cell_type": "markdown",
   "id": "7df84223",
   "metadata": {},
   "source": [
    "### Variabler"
   ]
  },
  {
   "cell_type": "markdown",
   "id": "a9946454",
   "metadata": {},
   "source": [
    "**Livet til en variabel**\n",
    "1. Variabelen oppstår når vi gir den et navn.\n",
    "2. Når variabelen har et navn, kan vi gi den en verdi.\n",
    "3. Når variabelen har en verdi, kan vi bruke variabelnavnet til å hente verdien i koden vår.\n",
    "4. Når det ikke lenger er behov for variabelen, kan programmet fjerne den."
   ]
  },
  {
   "cell_type": "markdown",
   "id": "badcf8dd",
   "metadata": {},
   "source": [
    "### Strenger"
   ]
  },
  {
   "cell_type": "markdown",
   "id": "f956455f",
   "metadata": {},
   "source": [
    "### Boolske_verdier"
   ]
  }
 ],
 "metadata": {
  "kernelspec": {
   "display_name": "Python 3 (ipykernel)",
   "language": "python",
   "name": "python3"
  },
  "language_info": {
   "codemirror_mode": {
    "name": "ipython",
    "version": 3
   },
   "file_extension": ".py",
   "mimetype": "text/x-python",
   "name": "python",
   "nbconvert_exporter": "python",
   "pygments_lexer": "ipython3",
   "version": "3.11.6"
  }
 },
 "nbformat": 4,
 "nbformat_minor": 5
}
