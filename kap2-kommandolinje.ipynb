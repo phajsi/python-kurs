{
 "cells": [
  {
   "cell_type": "markdown",
   "id": "12fd9b4b-9a0b-4ada-9d22-6ea712ad0147",
   "metadata": {},
   "source": [
    "## Kommandolinjeapplikasjon"
   ]
  },
  {
   "cell_type": "markdown",
   "id": "5ace8ad1-79f4-455b-9675-88fa3761ace6",
   "metadata": {},
   "source": [
    "## Lese data fra fil"
   ]
  },
  {
   "cell_type": "code",
   "execution_count": 4,
   "id": "f75bbebb-9786-48f7-8398-9bd676d3c4ee",
   "metadata": {},
   "outputs": [],
   "source": [
    "fil = open('serier.txt', 'r', encoding='utf8')"
   ]
  },
  {
   "cell_type": "code",
   "execution_count": 5,
   "id": "771e2aa6-320f-4d52-b941-132df9037011",
   "metadata": {},
   "outputs": [
    {
     "name": "stdout",
     "output_type": "stream",
     "text": [
      "helene-sjekker-ut,Helene sjekker ut\n",
      "evy-og-alltid,Evy og alltid\n",
      "klar-til-strid,Klar til strid\n",
      "mesternes-mester,Mesternes mester\n",
      "demenskoret,Demenskoret\n",
      "karen-pirie,Karen Pirie\n",
      "fra-boelle-til-bestevenn,Fra bølle til bestevenn\n"
     ]
    }
   ],
   "source": [
    "tekst = fil.read()\n",
    "print(tekst)"
   ]
  },
  {
   "cell_type": "markdown",
   "id": "4b6b0c74-1c28-4c07-a3f3-5d7af9d6a48d",
   "metadata": {},
   "source": [
    "**Bruke with open()**\n",
    "\n",
    "  With open lukker fila automatisk"
   ]
  },
  {
   "cell_type": "code",
   "execution_count": 6,
   "id": "29b1d6b7-956c-414c-a544-4d62e2fb2a6a",
   "metadata": {},
   "outputs": [
    {
     "name": "stdout",
     "output_type": "stream",
     "text": [
      "helene-sjekker-ut,Helene sjekker ut\n",
      "evy-og-alltid,Evy og alltid\n",
      "klar-til-strid,Klar til strid\n",
      "mesternes-mester,Mesternes mester\n",
      "demenskoret,Demenskoret\n",
      "karen-pirie,Karen Pirie\n",
      "fra-boelle-til-bestevenn,Fra bølle til bestevenn\n"
     ]
    }
   ],
   "source": [
    "with open(\"serier.txt\", \"r\", encoding=\"utf-8\") as fil:\n",
    "    tekst = fil.read()\n",
    "    print(tekst)\n"
   ]
  },
  {
   "cell_type": "markdown",
   "id": "8d2404a7-0a69-4d79-b3ba-a301e101c05b",
   "metadata": {},
   "source": [
    "### Liste bare titlene"
   ]
  },
  {
   "cell_type": "code",
   "execution_count": 12,
   "id": "5b2f8ec6-7dff-47b6-be82-46e34cbcfe31",
   "metadata": {},
   "outputs": [
    {
     "name": "stdout",
     "output_type": "stream",
     "text": [
      "Helene sjekker ut\n",
      "Evy og alltid\n",
      "Klar til strid\n",
      "Mesternes mester\n",
      "Demenskoret\n",
      "Karen Pirie\n",
      "Fra bølle til bestevenn\n"
     ]
    }
   ],
   "source": [
    "with open(\"serier.txt\", \"r\", encoding=\"utf-8\") as fil:\n",
    "    tekst = fil.read()\n",
    "    linjer = tekst.splitlines()\n",
    "    for linje in linjer:\n",
    "        serietittel = linje.split(',')[1]\n",
    "        print(serietittel)\n",
    "        "
   ]
  },
  {
   "cell_type": "markdown",
   "id": "fd79dd1f-0933-457c-97bd-26bb9dc49ff4",
   "metadata": {},
   "source": [
    "### Ekstra oppgave"
   ]
  },
  {
   "cell_type": "code",
   "execution_count": 18,
   "id": "3041f3d2-ad30-47d3-82cb-c40cb141e529",
   "metadata": {},
   "outputs": [],
   "source": [
    "import csv"
   ]
  },
  {
   "cell_type": "code",
   "execution_count": 55,
   "id": "0539074f-c436-417e-8b9b-f32418c5d75e",
   "metadata": {},
   "outputs": [
    {
     "name": "stdout",
     "output_type": "stream",
     "text": [
      " \"Youngstown\"\n",
      " \"Yankton\"\n",
      " \"Yakima\"\n",
      " \"Worcester\"\n",
      " \"Wisconsin Dells\"\n",
      " \"Winston-Salem\"\n",
      " \"Winnipeg\"\n",
      " \"Winchester\"\n",
      " \"Wilmington\"\n",
      " \"Wilmington\"\n",
      " \"Williston\"\n",
      " \"Williamsport\"\n",
      " \"Williamson\"\n",
      " \"Wichita Falls\"\n",
      " \"Wichita\"\n",
      " \"Wheeling\"\n",
      " \"West Palm Beach\"\n",
      " \"Wenatchee\"\n",
      " \"Weed\"\n",
      " \"Waycross\"\n",
      " \"Wausau\"\n",
      " \"Waukegan\"\n",
      " \"Watertown\"\n",
      " \"Watertown\"\n",
      " \"Waterloo\"\n",
      " \"Waterbury\"\n",
      " \"Washington\"\n",
      " \"Warren\"\n",
      " \"Walla Walla\"\n",
      " \"Waco\"\n",
      " \"Vincennes\"\n",
      " \"Victoria\"\n",
      " \"Vicksburg\"\n",
      " \"Vancouver\"\n",
      " \"Valley City\"\n",
      " \"Valdosta\"\n",
      " \"Utica\"\n",
      " \"Uniontown\"\n",
      " \"Tyler\"\n",
      " \"Twin Falls\"\n",
      " \"Tuscaloosa\"\n",
      " \"Tupelo\"\n",
      " \"Tulsa\"\n",
      " \"Tucson\"\n",
      " \"Trinidad\"\n",
      " \"Trenton\"\n",
      " \"Traverse City\"\n",
      " \"Toronto\"\n",
      " \"Topeka\"\n",
      " \"Toledo\"\n",
      " \"Texarkana\"\n",
      " \"Terre Haute\"\n",
      " \"Tampa\"\n",
      " \"Tallahassee\"\n",
      " \"Tacoma\"\n",
      " \"Syracuse\"\n",
      " \"Swainsboro\"\n",
      " \"Sumter\"\n",
      " \"Stroudsburg\"\n",
      " \"Stockton\"\n",
      " \"Stevens Point\"\n",
      " \"Steubenville\"\n",
      " \"Sterling\"\n",
      " \"Staunton\"\n",
      " \"Springfield\"\n",
      " \"Springfield\"\n",
      " \"Springfield\"\n",
      " \"Springfield\"\n",
      " \"Spokane\"\n",
      " \"South Bend\"\n",
      " \"Sioux Falls\"\n",
      " \"Sioux City\"\n",
      " \"Shreveport\"\n",
      " \"Sherman\"\n",
      " \"Sheridan\"\n",
      " \"Seminole\"\n",
      " \"Selma\"\n",
      " \"Sedalia\"\n",
      " \"Seattle\"\n",
      " \"Scranton\"\n",
      " \"Scottsbluff\"\n",
      " \"Schenectady\"\n",
      " \"Savannah\"\n",
      " \"Sault Sainte Marie\"\n",
      " \"Sarasota\"\n",
      " \"Santa Rosa\"\n",
      " \"Santa Fe\"\n",
      " \"Santa Barbara\"\n",
      " \"Santa Ana\"\n",
      " \"San Jose\"\n",
      " \"San Francisco\"\n",
      " \"Sandusky\"\n",
      " \"San Diego\"\n",
      " \"San Bernardino\"\n",
      " \"San Antonio\"\n",
      " \"San Angelo\"\n",
      " \"Salt Lake City\"\n",
      " \"Salisbury\"\n",
      " \"Salinas\"\n",
      " \"Salina\"\n",
      " \"Salida\"\n",
      " \"Salem\"\n",
      " \"Saint Paul\"\n",
      " \"Saint Louis\"\n",
      " \"Saint Joseph\"\n",
      " \"Saint Joseph\"\n",
      " \"Saint Johnsbury\"\n",
      " \"Saint Cloud\"\n",
      " \"Saint Augustine\"\n",
      " \"Saginaw\"\n",
      " \"Sacramento\"\n",
      " \"Rutland\"\n",
      " \"Roswell\"\n",
      " \"Rocky Mount\"\n",
      " \"Rock Springs\"\n",
      " \"Rockford\"\n",
      " \"Rochester\"\n",
      " \"Rochester\"\n",
      " \"Roanoke\"\n",
      " \"Richmond\"\n",
      " \"Richmond\"\n",
      " \"Richfield\"\n",
      " \"Rhinelander\"\n",
      " \"Reno\"\n",
      " \"Regina\"\n",
      " \"Red Bluff\"\n",
      " \"Reading\"\n",
      " \"Ravenna\"\n"
     ]
    }
   ],
   "source": [
    "with open('cities.csv', 'r') as csv_file:\n",
    "    info = csv.DictReader(csv_file, delimiter=\",\")\n",
    "    for row in info:\n",
    "        print(row[' \"City\"'])\n",
    "       "
   ]
  },
  {
   "cell_type": "markdown",
   "id": "a2eec9cd-ab53-4339-b348-05c21e7da48e",
   "metadata": {},
   "source": [
    "## Skrive til fil"
   ]
  },
  {
   "cell_type": "code",
   "execution_count": 1,
   "id": "db31b1d7-1cce-41e8-b37b-c2265f940687",
   "metadata": {},
   "outputs": [],
   "source": [
    "with open(\"adresser.txt\", \"w\", encoding=\"utf-8\") as fil:\n",
    "    fil.write(\"NRK, Bjørnstjerne Bjørnsons plass 1, 0340 Oslo\\n\")\n",
    "    fil.write(\"Slottet, Slottsplassen 1, 0010 Oslo\\n\")\n"
   ]
  },
  {
   "cell_type": "markdown",
   "id": "5a5f1997-a8a5-4311-9c2e-fbc0421ab8a1",
   "metadata": {},
   "source": [
    "**FLere adresser**"
   ]
  },
  {
   "cell_type": "code",
   "execution_count": 2,
   "id": "5bee895e-e602-46a1-a47a-04b575c0d494",
   "metadata": {},
   "outputs": [],
   "source": [
    "with open(\"adresser.txt\", \"a\", encoding=\"utf-8\") as fil:\n",
    "    fil.write(\"NRK, Bjørnstjerne Bjørnsons plass 1, 0340 Oslo\\n\")\n",
    "    fil.write(\"Slottet, Slottsplassen 1, 0010 Oslo\\n\")\n",
    "    fil.write(\"Hjem, Sannergata 29B, 0557 Oslo\\n\")\n"
   ]
  },
  {
   "cell_type": "markdown",
   "id": "93016482-5108-43b3-acd0-fcde3fc7ba2e",
   "metadata": {},
   "source": [
    "**Skrive serietittel til fil**"
   ]
  },
  {
   "cell_type": "code",
   "execution_count": 6,
   "id": "2c056049-9df6-4c68-a265-35fd86d145f5",
   "metadata": {},
   "outputs": [],
   "source": [
    "with open(\"serier.txt\", \"r\", encoding=\"utf-8\") as seriefil,  open(\"titler.txt\", \"w\", encoding=\"utf-8\") as tittelfil:\n",
    "    tekst = seriefil.read()\n",
    "    linjer = tekst.splitlines()\n",
    "    for linje in linjer:\n",
    "        serietittel = linje.split(',')[1]\n",
    "        tittelfil.write(serietittel+'\\n')\n"
   ]
  },
  {
   "cell_type": "markdown",
   "id": "cd7e8281-764c-4265-ac3b-8986f8c5ea1f",
   "metadata": {},
   "source": [
    "## Feilhåndtering"
   ]
  },
  {
   "cell_type": "markdown",
   "id": "0993b44c-03f6-4618-b28b-cd7db343a949",
   "metadata": {},
   "source": [
    "### Prøv og feil"
   ]
  },
  {
   "cell_type": "code",
   "execution_count": 7,
   "id": "0972cbbe-c252-4bd0-85de-a4e034c6fa8a",
   "metadata": {},
   "outputs": [
    {
     "name": "stdin",
     "output_type": "stream",
     "text": [
      "Tall a:  4\n",
      "Tall b:  2\n"
     ]
    },
    {
     "name": "stdout",
     "output_type": "stream",
     "text": [
      "a/b er 2.0\n"
     ]
    },
    {
     "name": "stdin",
     "output_type": "stream",
     "text": [
      "Tall a:  2\n",
      "Tall b:  4\n"
     ]
    },
    {
     "name": "stdout",
     "output_type": "stream",
     "text": [
      "a/b er 0.5\n"
     ]
    },
    {
     "name": "stdin",
     "output_type": "stream",
     "text": [
      "Tall a:  54\n",
      "Tall b:  23\n"
     ]
    },
    {
     "name": "stdout",
     "output_type": "stream",
     "text": [
      "a/b er 2.347826086956522\n"
     ]
    },
    {
     "name": "stdin",
     "output_type": "stream",
     "text": [
      "Tall a:  54\n",
      "Tall b:  23\n"
     ]
    },
    {
     "name": "stdout",
     "output_type": "stream",
     "text": [
      "a/b er 2.347826086956522\n"
     ]
    },
    {
     "name": "stdin",
     "output_type": "stream",
     "text": [
      "Tall a:  g\n"
     ]
    },
    {
     "ename": "ValueError",
     "evalue": "could not convert string to float: 'g'",
     "output_type": "error",
     "traceback": [
      "\u001b[0;31m---------------------------------------------------------------------------\u001b[0m",
      "\u001b[0;31mValueError\u001b[0m                                Traceback (most recent call last)",
      "Cell \u001b[0;32mIn[7], line 2\u001b[0m\n\u001b[1;32m      1\u001b[0m \u001b[38;5;28;01mwhile\u001b[39;00m \u001b[38;5;28;01mTrue\u001b[39;00m: \n\u001b[0;32m----> 2\u001b[0m     a \u001b[38;5;241m=\u001b[39m \u001b[38;5;28;43mfloat\u001b[39;49m\u001b[43m(\u001b[49m\u001b[38;5;28;43minput\u001b[39;49m\u001b[43m(\u001b[49m\u001b[38;5;124;43m\"\u001b[39;49m\u001b[38;5;124;43mTall a: \u001b[39;49m\u001b[38;5;124;43m\"\u001b[39;49m\u001b[43m)\u001b[49m\u001b[43m)\u001b[49m\n\u001b[1;32m      3\u001b[0m     b \u001b[38;5;241m=\u001b[39m \u001b[38;5;28mfloat\u001b[39m(\u001b[38;5;28minput\u001b[39m(\u001b[38;5;124m\"\u001b[39m\u001b[38;5;124mTall b: \u001b[39m\u001b[38;5;124m\"\u001b[39m))\n\u001b[1;32m      4\u001b[0m     resultat \u001b[38;5;241m=\u001b[39m a\u001b[38;5;241m/\u001b[39mb\n",
      "\u001b[0;31mValueError\u001b[0m: could not convert string to float: 'g'"
     ]
    }
   ],
   "source": [
    "while True: \n",
    "    a = float(input(\"Tall a: \"))\n",
    "    b = float(input(\"Tall b: \"))\n",
    "    resultat = a/b\n",
    "    print(f\"a/b er {resultat}\")\n"
   ]
  },
  {
   "cell_type": "markdown",
   "id": "83d80226-78cb-4d63-97d9-890cd70ced55",
   "metadata": {},
   "source": [
    "### Generell try/except block"
   ]
  },
  {
   "cell_type": "code",
   "execution_count": null,
   "id": "a19332b1-4fa8-4b29-b26f-0327f3d5d0d9",
   "metadata": {},
   "outputs": [],
   "source": [
    "while True: \n",
    "    try:\n",
    "        a = float(input(\"Tall a: \"))\n",
    "        b = float(input(\"Tall b: \"))\n",
    "        resultat = a/b\n",
    "        print(f\"a/b er {resultat}\")\n",
    "    except: \n",
    "        print(\"Det skjedde noe feil, prøv igjen!\")\n"
   ]
  },
  {
   "cell_type": "markdown",
   "id": "936cd119-4ed3-41de-a02e-5208e0b24fa6",
   "metadata": {},
   "source": [
    "### Legge til flere specifikke exceptions"
   ]
  },
  {
   "cell_type": "code",
   "execution_count": null,
   "id": "baeef0f6-1ef5-42ae-91ae-c12388292734",
   "metadata": {},
   "outputs": [],
   "source": [
    "while True: \n",
    "    try:\n",
    "        a = float(input(\"Tall a: \"))\n",
    "        b = float(input(\"Tall b: \"))\n",
    "        resultat = a/b\n",
    "        print(f\"a/b er {resultat}\")\n",
    "    except ValueError:\n",
    "        print(\"Du skrev inn bokstaver, tast inn et tall\")\n",
    "    except ZeroDivisionError:\n",
    "        print(\"Du kan ikke dele på null\")\n",
    "    except Exception: \n",
    "        print(\"Det skjedde noe feil, prøv igjen!\")"
   ]
  },
  {
   "cell_type": "code",
   "execution_count": 9,
   "id": "9dc6e863-abcc-43c2-b03a-e07d292b0079",
   "metadata": {},
   "outputs": [
    {
     "name": "stdin",
     "output_type": "stream",
     "text": [
      "Hvilket år er du født? > 1221\n"
     ]
    },
    {
     "name": "stdout",
     "output_type": "stream",
     "text": [
      "Du har angitt et ugyldig fødselsår, prøv igjen!\n"
     ]
    },
    {
     "name": "stdin",
     "output_type": "stream",
     "text": [
      "Hvilket år er du født? > 5+\n"
     ]
    },
    {
     "name": "stdout",
     "output_type": "stream",
     "text": [
      "Du har angitt et ugyldig fødselsår, prøv igjen!\n"
     ]
    },
    {
     "name": "stdin",
     "output_type": "stream",
     "text": [
      "Hvilket år er du født? > s\n"
     ]
    },
    {
     "name": "stdout",
     "output_type": "stream",
     "text": [
      "Du har angitt et ugyldig fødselsår, prøv igjen!\n"
     ]
    },
    {
     "name": "stdin",
     "output_type": "stream",
     "text": [
      "Hvilket år er du født? > 1896\n"
     ]
    },
    {
     "name": "stdout",
     "output_type": "stream",
     "text": [
      "Du har angitt et ugyldig fødselsår, prøv igjen!\n"
     ]
    },
    {
     "name": "stdin",
     "output_type": "stream",
     "text": [
      "Hvilket år er du født? > 1999\n"
     ]
    }
   ],
   "source": [
    "ferdig = False\n",
    "while not ferdig:\n",
    "    try:\n",
    "        fødselsår = input(\"Hvilket år er du født? >\")\n",
    "        fødselsår_tall = int(fødselsår)\n",
    "        if fødselsår_tall < 1900 or fødselsår_tall > 2023:\n",
    "            raise ValueError()\n",
    "            print(f\"Du er født i {fødselsår}\")\n",
    "        ferdig = True\n",
    "    except Exception:\n",
    "        print(\"Du har angitt et ugyldig fødselsår, prøv igjen!\")\n"
   ]
  },
  {
   "cell_type": "markdown",
   "id": "b9d7914f-7f73-43c0-855e-e87fb8c7f284",
   "metadata": {},
   "source": [
    "### Lage en egen exception klasse"
   ]
  },
  {
   "cell_type": "code",
   "execution_count": 15,
   "id": "7e092ab0-ca02-4961-9537-8514c2fb542c",
   "metadata": {},
   "outputs": [],
   "source": []
  },
  {
   "cell_type": "code",
   "execution_count": 20,
   "id": "12234d5f-704f-4273-b059-ec42ed7165f8",
   "metadata": {},
   "outputs": [
    {
     "name": "stdin",
     "output_type": "stream",
     "text": [
      "Hvilket år er du født? > 1556\n"
     ]
    },
    {
     "name": "stdout",
     "output_type": "stream",
     "text": [
      "Du har angitt et ugyldig fødselsår, prøv igjen!\n"
     ]
    },
    {
     "name": "stdin",
     "output_type": "stream",
     "text": [
      "Hvilket år er du født? > sad\n"
     ]
    },
    {
     "name": "stdout",
     "output_type": "stream",
     "text": [
      "Du har angitt et ugyldig fødselsår, prøv igjen!\n"
     ]
    },
    {
     "name": "stdin",
     "output_type": "stream",
     "text": [
      "Hvilket år er du født? > gr\n"
     ]
    },
    {
     "name": "stdout",
     "output_type": "stream",
     "text": [
      "Du har angitt et ugyldig fødselsår, prøv igjen!\n"
     ]
    },
    {
     "name": "stdin",
     "output_type": "stream",
     "text": [
      "Hvilket år er du født? > 1665\n"
     ]
    },
    {
     "name": "stdout",
     "output_type": "stream",
     "text": [
      "Du har angitt et ugyldig fødselsår, prøv igjen!\n"
     ]
    },
    {
     "name": "stdin",
     "output_type": "stream",
     "text": [
      "Hvilket år er du født? > 2000\n"
     ]
    }
   ],
   "source": [
    "class UgyldigÅrError(Exception): pass\n",
    "\n",
    "ferdig = False\n",
    "while not ferdig:\n",
    "    try:\n",
    "        fødselsår = input(\"Hvilket år er du født? >\")\n",
    "        fødselsår_tall = int(fødselsår)\n",
    "        if fødselsår_tall < 1900 or fødselsår_tall > 2023:\n",
    "            raise UgyldigÅrError()\n",
    "            print(f\"Du er født i {fødselsår}\")\n",
    "        ferdig = True\n",
    "    except Exception:\n",
    "        print(\"Du har angitt et ugyldig fødselsår, prøv igjen!\")"
   ]
  },
  {
   "cell_type": "markdown",
   "id": "fbe1f902-1b65-40c5-9572-7537e6da1283",
   "metadata": {},
   "source": [
    "### Finally"
   ]
  },
  {
   "cell_type": "code",
   "execution_count": 25,
   "id": "15b41ec2-c4dc-4046-97ad-5e61e406151e",
   "metadata": {},
   "outputs": [
    {
     "name": "stdout",
     "output_type": "stream",
     "text": [
      "En feil oppstod!\n"
     ]
    }
   ],
   "source": [
    "try:\n",
    "    fil = open(\"adresser.txt\", \"r\", encoding=\"utf-8\")\n",
    "    text = fil.write(\"Ole Brumm,,Hundremeterskogen\\n\")\n",
    "except Exception:\n",
    "    print(\"En feil oppstod!\")\n",
    "finally:\n",
    "    fil.close()\n"
   ]
  },
  {
   "cell_type": "markdown",
   "id": "effcca18-208f-4ce0-98b5-28cf628bed48",
   "metadata": {},
   "source": [
    "### Flere oppgaver"
   ]
  },
  {
   "cell_type": "code",
   "execution_count": null,
   "id": "0a3b3bb0-7821-4661-a006-fb822f91e799",
   "metadata": {},
   "outputs": [],
   "source": [
    "# TODO:"
   ]
  },
  {
   "cell_type": "markdown",
   "id": "ffd66c45-653f-48d7-8f4b-4c063db39403",
   "metadata": {},
   "source": [
    "#### Rare tilfeller av Finally"
   ]
  },
  {
   "cell_type": "code",
   "execution_count": null,
   "id": "b7512716-cf93-4ff8-8cd3-fdb5b1f3277e",
   "metadata": {},
   "outputs": [],
   "source": [
    "def kast_feil():\n",
    "    try:\n",
    "        raise Exception(\"Det skjedde en feil\")\n",
    "    finally:\n",
    "        print(\"finally\")\n",
    "        return True # kommenter ut linja og se hva som skjer\n",
    "    \n",
    "kast_feil()\n"
   ]
  },
  {
   "cell_type": "code",
   "execution_count": null,
   "id": "6d1e6744-9806-4a0c-bac6-551d2e7bf490",
   "metadata": {},
   "outputs": [],
   "source": [
    "def hva_returneres():\n",
    "    try:\n",
    "        return False\n",
    "    finally:\n",
    "        return True\n",
    "\n",
    "print(f\"Resultatet er: {hva_returneres()}\")\n"
   ]
  },
  {
   "cell_type": "markdown",
   "id": "041b9498-bcf5-45fd-8bd8-e730c7a6f3db",
   "metadata": {},
   "source": [
    " #### Feilhåndtering i filbehandling\n",
    "\n",
    "Ta utgangspunkt i koden for å lese til fil, og lag et program som tar inn filnavn som input fra brukeren, og skriver ut innholdet i fila i terminalen.\r\n",
    "\r\n",
    "Hva skjer hvis brukeren skriver inn et filnavn som ikke finnes? Legg inn feilhåndtering så brukeren får tilbud om å prøve på nytt.\r\n",
    "\r\n",
    "Klarer du framprovosere feil i koden slik at innholdet i fila du leser går tapt?"
   ]
  },
  {
   "cell_type": "markdown",
   "id": "8b291468-5123-41ac-9902-dad47c9636fc",
   "metadata": {},
   "source": [
    "## JSON: Et dataformat"
   ]
  },
  {
   "cell_type": "markdown",
   "id": "76772a2b-01c5-4033-b9a7-904bdd093a26",
   "metadata": {},
   "source": [
    "### Rette opp i JSON-eksempel"
   ]
  },
  {
   "cell_type": "code",
   "execution_count": 39,
   "id": "731485df-c3e8-45af-8bf4-5b5b7a2c5da5",
   "metadata": {},
   "outputs": [
    {
     "data": {
      "text/plain": [
       "{'id': '43905584095567',\n",
       " 'product_code': 'MUHU65100022',\n",
       " 'title': 'Nytt på nytt',\n",
       " 'medvirkende': ['Bård Tufte Johansen', 'Isalill Kolpus', 'Johan Golden'],\n",
       " 'metadata': {'category': '3.5.7.4 Satire',\n",
       "  'presentation_format': '2.0.8 Talkshow',\n",
       "  'age_restriction': '9+',\n",
       "  'production_year': 2023}}"
      ]
     },
     "execution_count": 39,
     "metadata": {},
     "output_type": "execute_result"
    }
   ],
   "source": [
    "#Før:\n",
    "\"\"\"\n",
    "{\n",
    "    \"id\": \"43905584095567\",\n",
    "    \"product_code\" = \"MUHU65100022\",\n",
    "    \"title\"; \"Nytt på nytt\",\n",
    "    \"medvirkende\": (\n",
    "        \"Bård Tufte Johansen\",\n",
    "        \"Isalill Kolpus,\n",
    "        Johan Golden,\n",
    "    )\n",
    "    \"metadata\": {\n",
    "        \"category\" \"3.5.7.4 Satire\".\n",
    "        \"presentation_format\": 2.0.8 \"Talkshow\",\n",
    "        \"age_restriction\": \"9+\",\n",
    "        \"production_year\" - 2023,\n",
    "    }\n",
    "\"\"\"\n",
    "\n",
    "#Etter:\n",
    "{\n",
    "    \"id\": \"43905584095567\",\n",
    "    \"product_code\": \"MUHU65100022\",\n",
    "    \"title\": \"Nytt på nytt\",\n",
    "    \"medvirkende\": [\n",
    "        \"Bård Tufte Johansen\",\n",
    "        \"Isalill Kolpus\",\n",
    "        \"Johan Golden\",\n",
    "    ],\n",
    "    \"metadata\": \n",
    "    {\n",
    "        \"category\": \"3.5.7.4 Satire\",\n",
    "        \"presentation_format\": \"2.0.8 Talkshow\",\n",
    "        \"age_restriction\": \"9+\",\n",
    "        \"production_year\": 2023,\n",
    "    }\n",
    "}\n",
    "\n"
   ]
  },
  {
   "cell_type": "code",
   "execution_count": 40,
   "id": "763ef2fc-5bd1-4169-bcbd-a37283bd6861",
   "metadata": {},
   "outputs": [
    {
     "name": "stdout",
     "output_type": "stream",
     "text": [
      "Der ingen skulle tru at nokon kunne bu\n"
     ]
    }
   ],
   "source": [
    "import json\n",
    "\n",
    "product_json = '{\"id\": \"12975534035527\", \"product_code\": \"DVSF65100022\", \"title\": \"Der ingen skulle tru at nokon kunne bu\"}'\n",
    "\n",
    "product = json.loads(product_json)\n",
    "print(product[\"title\"])\n"
   ]
  },
  {
   "cell_type": "code",
   "execution_count": 54,
   "id": "f842b942-c62b-459e-9c78-03150c1db7c1",
   "metadata": {},
   "outputs": [],
   "source": [
    "import json\n",
    "\n",
    "product = [\n",
    "    {\n",
    "    \"id\": \"12975534035527\", \n",
    "    \"product_code\": \"DVSF65100022\", \n",
    "    \"title\": \"Der ingen skulle tru at nokon kunne bu\"\n",
    "    },\n",
    "]\n",
    "\n",
    "with open(\"data.json\", \"w\", encoding=\"utf-8\") as fil:\n",
    "    json.dump(product, fil)"
   ]
  },
  {
   "cell_type": "code",
   "execution_count": 56,
   "id": "015ce499-c544-47d5-be0b-09e481a3cbe1",
   "metadata": {},
   "outputs": [
    {
     "name": "stdout",
     "output_type": "stream",
     "text": [
      "[{'id': '12975534035527', 'product_code': 'DVSF65100022', 'title': 'Der ingen skulle tru at nokon kunne bu'}, {'id': '98975534655545', 'product_code': 'MUHU65100022', 'title': 'Der alle skulle tru at nokon kunne bu'}]\n"
     ]
    }
   ],
   "source": [
    "import json\n",
    "\n",
    "with open(\"data.json\", \"r\", encoding=\"utf-8\") as fil:\n",
    "    json_data = json.load(fil)\n",
    "\n",
    "new_product = {\n",
    "    \"id\": \"98975534655545\", \n",
    "    \"product_code\": \"MUHU65100022\", \n",
    "    \"title\": \"Der alle skulle tru at nokon kunne bu\"\n",
    "}\n",
    "\n",
    "json_data.append(new_product)\n",
    "print(json_data)\n",
    "\n",
    "with open(\"data.json\", \"w\", encoding=\"utf-8\") as fil:\n",
    "    json.dump(json_data, fil, indent=2)\n"
   ]
  },
  {
   "cell_type": "markdown",
   "id": "1083fe2b-8948-4a16-b460-5562fdd7055f",
   "metadata": {},
   "source": [
    "## Et helt program"
   ]
  },
  {
   "cell_type": "markdown",
   "id": "7855ac5d-7b18-47c7-96ba-ff2a345e835a",
   "metadata": {},
   "source": [
    "https://nrkno.github.io/prog-videre/kap2/5_oppgave.html"
   ]
  }
 ],
 "metadata": {
  "kernelspec": {
   "display_name": "Python 3 (ipykernel)",
   "language": "python",
   "name": "python3"
  },
  "language_info": {
   "codemirror_mode": {
    "name": "ipython",
    "version": 3
   },
   "file_extension": ".py",
   "mimetype": "text/x-python",
   "name": "python",
   "nbconvert_exporter": "python",
   "pygments_lexer": "ipython3",
   "version": "3.11.5"
  }
 },
 "nbformat": 4,
 "nbformat_minor": 5
}
